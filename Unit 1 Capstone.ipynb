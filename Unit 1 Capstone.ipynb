{
 "cells": [
  {
   "cell_type": "code",
   "execution_count": 1,
   "metadata": {},
   "outputs": [],
   "source": [
    "import pandas as pd\n",
    "import numpy as np\n",
    "import matplotlib.pyplot as plt\n",
    "import csv"
   ]
  },
  {
   "cell_type": "code",
   "execution_count": 2,
   "metadata": {},
   "outputs": [],
   "source": [
    "athens = pd.read_csv('athens_listing_2.csv')"
   ]
  },
  {
   "cell_type": "code",
   "execution_count": 3,
   "metadata": {},
   "outputs": [],
   "source": [
    "#does room price have an effect on reviews?\n",
    "#does availablility effect price?\n",
    "#can i raise the price and still stay booked?"
   ]
  },
  {
   "cell_type": "code",
   "execution_count": 4,
   "metadata": {},
   "outputs": [
    {
     "name": "stdout",
     "output_type": "stream",
     "text": [
      "      price  reviews_per_month  number_of_reviews  availability_365\n",
      "0         0               0.74                 11                 0\n",
      "1         0               0.53                  6               344\n",
      "2        10               0.04                  1                 0\n",
      "3        10               1.65                 46               178\n",
      "4        10               3.94                192               343\n",
      "5        10               0.96                 38               365\n",
      "6        10               1.25                 48               365\n",
      "7        10               0.34                 13               365\n",
      "8        10               1.79                 69               365\n",
      "9        10               1.31                 50               365\n",
      "10       10               2.44                 92               360\n",
      "11       10               0.57                 22               365\n",
      "12       10               0.26                 10               365\n",
      "13       10               0.76                 22                43\n",
      "14       10               0.07                  2                 0\n",
      "15       10               0.18                  1                 0\n",
      "16       10               2.50                 52               158\n",
      "17       10               0.43                  9               308\n",
      "18       10               0.06                  1               318\n",
      "19       10               6.01                101               344\n",
      "20       10               2.08                 31               348\n",
      "21       10               0.23                  1                10\n",
      "22       10               2.64                 17               287\n",
      "23       10               5.74                 13                93\n",
      "24       10                NaN                  0                99\n",
      "25       10               1.00                  1                68\n",
      "26       10                NaN                  0               363\n",
      "27       10                NaN                  0               350\n",
      "28       10                NaN                  0                30\n",
      "29      100               1.16                 83               317\n",
      "...     ...                ...                ...               ...\n",
      "9264     99               0.08                  3               362\n",
      "9265     99               0.22                 15               342\n",
      "9266     99               2.22                150               312\n",
      "9267     99               0.85                 40               351\n",
      "9268     99               2.45                117               326\n",
      "9269     99               3.95                162                85\n",
      "9270     99               1.78                 27               355\n",
      "9271     99               0.74                 22               351\n",
      "9272     99               0.66                 16               359\n",
      "9273     99                NaN                  0                 0\n",
      "9274     99               6.29                112               302\n",
      "9275     99               0.20                  3               365\n",
      "9276     99                NaN                  0               365\n",
      "9277     99                NaN                  0               351\n",
      "9278     99               4.07                 33                91\n",
      "9279     99               8.29                 42               300\n",
      "9280     99                NaN                  0               364\n",
      "9281     99               1.19                  5               180\n",
      "9282     99               7.01                 32               121\n",
      "9283     99               3.72                 16               157\n",
      "9284     99               0.37                  1               260\n",
      "9285     99               3.00                  3                95\n",
      "9286     99                NaN                  0               365\n",
      "9287     99               1.58                  2               302\n",
      "9288     99                NaN                  0               179\n",
      "9289     99               0.60                  1               167\n",
      "9290     99                NaN                  0               347\n",
      "9291     99               1.00                  1               249\n",
      "9292     99               3.00                  3               235\n",
      "9293     99                NaN                  0               171\n",
      "\n",
      "[9294 rows x 4 columns]\n"
     ]
    }
   ],
   "source": [
    "print(athens)"
   ]
  },
  {
   "cell_type": "code",
   "execution_count": 5,
   "metadata": {},
   "outputs": [
    {
     "data": {
      "text/plain": [
       "price                 62.236497\n",
       "reviews_per_month      2.493309\n",
       "number_of_reviews     29.581666\n",
       "availability_365     237.708844\n",
       "dtype: float64"
      ]
     },
     "execution_count": 5,
     "metadata": {},
     "output_type": "execute_result"
    }
   ],
   "source": [
    "athens.mean()"
   ]
  },
  {
   "cell_type": "code",
   "execution_count": 6,
   "metadata": {},
   "outputs": [
    {
     "data": {
      "text/plain": [
       "price                0.00\n",
       "reviews_per_month    0.02\n",
       "number_of_reviews    0.00\n",
       "availability_365     0.00\n",
       "dtype: float64"
      ]
     },
     "execution_count": 6,
     "metadata": {},
     "output_type": "execute_result"
    }
   ],
   "source": [
    "athens.min()"
   ]
  },
  {
   "cell_type": "code",
   "execution_count": 7,
   "metadata": {},
   "outputs": [
    {
     "data": {
      "text/plain": [
       "price                7000.00\n",
       "reviews_per_month      14.25\n",
       "number_of_reviews     593.00\n",
       "availability_365      365.00\n",
       "dtype: float64"
      ]
     },
     "execution_count": 7,
     "metadata": {},
     "output_type": "execute_result"
    }
   ],
   "source": [
    "athens.max()"
   ]
  },
  {
   "cell_type": "code",
   "execution_count": 8,
   "metadata": {},
   "outputs": [
    {
     "name": "stdout",
     "output_type": "stream",
     "text": [
      "      price  reviews_per_month  number_of_reviews  availability_365\n",
      "0         0               0.74                 11                 0\n",
      "2        10               0.04                  1                 0\n",
      "14       10               0.07                  2                 0\n",
      "15       10               0.18                  1                 0\n",
      "79      100               0.57                 10                 0\n",
      "82      100                NaN                  0                 0\n",
      "102     100               2.27                 35                 0\n",
      "139     100                NaN                  0                 0\n",
      "151     100               0.53                  3                 0\n",
      "166     100                NaN                  0                 0\n",
      "227     103                NaN                  0                 0\n",
      "263     109                NaN                  0                 0\n",
      "271      11                NaN                  0                 0\n",
      "275      11               0.23                  1                 0\n",
      "308     110                NaN                  0                 0\n",
      "382      12               0.27                  7                 0\n",
      "385      12               0.21                  6                 0\n",
      "386      12               0.08                  2                 0\n",
      "398      12               0.36                  6                 0\n",
      "401      12               0.48                  8                 0\n",
      "404      12               1.10                 15                 0\n",
      "407      12                NaN                  0                 0\n",
      "410      12               6.08                 16                 0\n",
      "421     120                NaN                  0                 0\n",
      "430     120               1.22                 34                 0\n",
      "431     120                NaN                  0                 0\n",
      "432     120                NaN                  0                 0\n",
      "468     120                NaN                  0                 0\n",
      "525     121                NaN                  0                 0\n",
      "534     125                NaN                  0                 0\n",
      "...     ...                ...                ...               ...\n",
      "8632     80               0.04                  1                 0\n",
      "8647     80               0.02                  1                 0\n",
      "8655     80               0.08                  2                 0\n",
      "8677     80                NaN                  0                 0\n",
      "8685     80               0.39                  8                 0\n",
      "8686     80                NaN                  0                 0\n",
      "8723     80               3.76                 65                 0\n",
      "8735     80               0.07                  1                 0\n",
      "8750     80               1.44                 21                 0\n",
      "8768     80                NaN                  0                 0\n",
      "8783     80                NaN                  0                 0\n",
      "8796     80               0.40                  1                 0\n",
      "8831     80               2.47                  8                 0\n",
      "8849     80                NaN                  0                 0\n",
      "8899     81               1.53                  3                 0\n",
      "8907     83               0.43                 31                 0\n",
      "8909     83               1.22                 74                 0\n",
      "8929     85               0.51                 14                 0\n",
      "8934     85                NaN                  0                 0\n",
      "9005     87               0.10                  1                 0\n",
      "9028     89                NaN                  0                 0\n",
      "9042      9                NaN                  0                 0\n",
      "9048      9               2.02                 26                 0\n",
      "9049      9               0.40                  5                 0\n",
      "9052      9               0.12                  1                 0\n",
      "9083     90               1.14                 24                 0\n",
      "9102     90                NaN                  0                 0\n",
      "9125     90                NaN                  0                 0\n",
      "9248     97               0.59                  5                 0\n",
      "9273     99                NaN                  0                 0\n",
      "\n",
      "[575 rows x 4 columns]\n"
     ]
    }
   ],
   "source": [
    "print(athens.loc[athens.availability_365 == 0])"
   ]
  },
  {
   "cell_type": "code",
   "execution_count": 9,
   "metadata": {},
   "outputs": [
    {
     "name": "stdout",
     "output_type": "stream",
     "text": [
      "   price  reviews_per_month  number_of_reviews  availability_365\n",
      "0      0               0.74                 11                 0\n",
      "1      0               0.53                  6               344\n"
     ]
    }
   ],
   "source": [
    "print(athens.loc[athens.price == 0])"
   ]
  },
  {
   "cell_type": "code",
   "execution_count": 10,
   "metadata": {},
   "outputs": [],
   "source": [
    "#there are two places where price = 0 - take them out?\n"
   ]
  },
  {
   "cell_type": "code",
   "execution_count": 11,
   "metadata": {},
   "outputs": [
    {
     "data": {
      "image/png": "[encoded data removed]",
      "text/plain": [
       "<Figure size 432x288 with 1 Axes>"
      ]
     },
     "metadata": {},
     "output_type": "display_data"
    }
   ],
   "source": [
    "plt.scatter(athens['price'], athens['reviews_per_month'])\n",
    "plt.show()"
   ]
  },
  {
   "cell_type": "code",
   "execution_count": 12,
   "metadata": {},
   "outputs": [
    {
     "data": {
      "image/png": "[encoded data removed]",
      "text/plain": [
       "<Figure size 432x288 with 1 Axes>"
      ]
     },
     "metadata": {},
     "output_type": "display_data"
    }
   ],
   "source": [
    "plt.hist(athens.price)\n",
    "plt.show()"
   ]
  },
  {
   "cell_type": "code",
   "execution_count": 13,
   "metadata": {},
   "outputs": [
    {
     "data": {
      "image/png": "[encoded data removed]",
      "text/plain": [
       "<Figure size 432x288 with 1 Axes>"
      ]
     },
     "metadata": {},
     "output_type": "display_data"
    }
   ],
   "source": [
    "plt.boxplot(athens.price)\n",
    "plt.show()"
   ]
  },
  {
   "cell_type": "code",
   "execution_count": 14,
   "metadata": {},
   "outputs": [],
   "source": [
    "athens_budget = athens.loc[athens.price <1000]"
   ]
  },
  {
   "cell_type": "code",
   "execution_count": 15,
   "metadata": {},
   "outputs": [
    {
     "data": {
      "image/png": "[encoded data removed]",
      "text/plain": [
       "<Figure size 432x288 with 1 Axes>"
      ]
     },
     "metadata": {},
     "output_type": "display_data"
    }
   ],
   "source": [
    "plt.boxplot(athens_budget.price)\n",
    "plt.show()"
   ]
  },
  {
   "cell_type": "code",
   "execution_count": 16,
   "metadata": {},
   "outputs": [
    {
     "data": {
      "image/png": "[encoded data removed]",
      "text/plain": [
       "<Figure size 432x288 with 1 Axes>"
      ]
     },
     "metadata": {},
     "output_type": "display_data"
    }
   ],
   "source": [
    "plt.boxplot(athens.availability_365)\n",
    "plt.show()"
   ]
  },
  {
   "cell_type": "code",
   "execution_count": 17,
   "metadata": {},
   "outputs": [
    {
     "data": {
      "image/png": "[encoded data removed]",
      "text/plain": [
       "<Figure size 432x288 with 1 Axes>"
      ]
     },
     "metadata": {},
     "output_type": "display_data"
    }
   ],
   "source": [
    "plt.hist(athens.reviews_per_month.dropna())\n",
    "plt.show()"
   ]
  },
  {
   "cell_type": "code",
   "execution_count": 18,
   "metadata": {},
   "outputs": [
    {
     "data": {
      "image/png": "[encoded data removed]",
      "text/plain": [
       "<Figure size 432x288 with 1 Axes>"
      ]
     },
     "metadata": {},
     "output_type": "display_data"
    }
   ],
   "source": [
    "plt.boxplot(athens.reviews_per_month.dropna())\n",
    "plt.show()"
   ]
  },
  {
   "cell_type": "code",
   "execution_count": 19,
   "metadata": {},
   "outputs": [
    {
     "data": {
      "image/png": "[encoded data removed]",
      "text/plain": [
       "<Figure size 432x288 with 1 Axes>"
      ]
     },
     "metadata": {},
     "output_type": "display_data"
    }
   ],
   "source": [
    "plt.hist(athens.number_of_reviews.dropna())\n",
    "plt.show()"
   ]
  },
  {
   "cell_type": "code",
   "execution_count": 20,
   "metadata": {},
   "outputs": [
    {
     "data": {
      "image/png": "[encoded data removed]",
      "text/plain": [
       "<Figure size 432x288 with 1 Axes>"
      ]
     },
     "metadata": {},
     "output_type": "display_data"
    }
   ],
   "source": [
    "plt.scatter(athens.number_of_reviews.dropna(), athens.reviews_per_month, color='red')\n",
    "plt.xlabel('Number of Reviews')\n",
    "plt.ylabel('Reviews per Month')\n",
    "plt.show()"
   ]
  },
  {
   "cell_type": "code",
   "execution_count": null,
   "metadata": {},
   "outputs": [],
   "source": []
  }
 ],
 "metadata": {
  "kernelspec": {
   "display_name": "Python 3",
   "language": "python",
   "name": "python3"
  },
  "language_info": {
   "codemirror_mode": {
    "name": "ipython",
    "version": 3
   },
   "file_extension": ".py",
   "mimetype": "text/x-python",
   "name": "python",
   "nbconvert_exporter": "python",
   "pygments_lexer": "ipython3",
   "version": "3.6.5"
  }
 },
 "nbformat": 4,
 "nbformat_minor": 2
}
